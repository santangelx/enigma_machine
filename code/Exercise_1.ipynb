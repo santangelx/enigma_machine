{
 "cells": [
  {
   "cell_type": "code",
   "execution_count": 1,
   "id": "584d5d1b",
   "metadata": {},
   "outputs": [],
   "source": [
    "#Define the data\n",
    "import hashlib\n",
    "import base64\n",
    "# SCIPER = 287887\n",
    "# id = 287887\n",
    "# seed = 12248816132389946089\n",
    "###### Exercise 1\n",
    "Q1a_L=[97, 98, 99, 100, 101, 102, 103, 104, 105, 106, 107, 108, 109, 110, 111, 112, 113, 114, 115, 116, 117, 118, 119, 120, 121, 122, 65, 66, 67, 68, 69, 70, 71, 72, 73, 74, 75, 76, 77, 78, 79, 80, 81, 82, 83, 84, 85, 86, 87, 88, 89, 90]\n",
    "Q1a_Z=[32, 33, 34, 35, 36, 37, 38, 39, 40, 41, 42, 43, 44, 45, 46, 47, 58, 59, 60, 61, 62, 63, 64, 91, 92, 93, 94, 95, 96, 123, 124, 125, 126]\n",
    "Q1a_pt=[73, 102, 32, 121, 111, 117, 39, 114, 101, 32, 115, 99, 97, 114, 101, 100, 44, 32, 121, 111, 117, 32, 109, 105, 103, 104, 116, 32, 97, 115, 32, 119, 101, 108, 108, 32, 106, 117, 115, 116, 32, 99, 108, 105, 110, 103, 32, 116, 111, 32, 109, 121, 32, 97, 114, 109, 46, 32, 67, 114, 101, 97, 116, 101, 115, 32, 109, 111, 114, 101, 32, 111, 102, 32, 97, 110, 32, 97, 116, 109, 111, 115, 112, 104, 101, 114, 101, 46, 32, 40, 75, 121, 111, 110, 44, 32, 84, 104, 101, 32, 77, 101, 108, 97, 110, 99, 104, 111, 108, 121, 32, 111, 102, 32, 72, 97, 114, 117, 104, 105, 32, 83, 117, 122, 117, 109, 105, 121, 97, 41]\n",
    "Q1a_ct=[75, 109, 32, 116, 109, 104, 39, 75, 71, 32, 88, 111, 107, 107, 103, 70, 44, 32, 115, 101, 65, 32, 85, 103, 104, 116, 79, 32, 71, 121, 32, 114, 89, 67, 90, 32, 113, 116, 114, 108, 32, 81, 88, 122, 107, 79, 32, 100, 82, 32, 119, 73, 32, 68, 69, 98, 46, 32, 113, 73, 106, 112, 89, 76, 84, 32, 71, 104, 99, 75, 32, 99, 111, 32, 117, 117, 32, 83, 119, 106, 85, 122, 73, 102, 88, 69, 88, 46, 32, 40, 90, 88, 78, 77, 44, 32, 113, 105, 72, 32, 75, 79, 115, 100, 121, 89, 114, 73, 98, 107, 32, 79, 65, 32, 103, 77, 116, 106, 77, 84, 32, 113, 75, 119, 101, 105, 74, 72, 65, 41]\n",
    "Q1a_R=[[[51, 24, 39, 0, 13, 5, 27, 47, 11, 20, 48, 7, 19, 43, 31, 1, 35, 44, 12, 33, 9, 28, 10, 26, 49, 2, 46, 18, 30, 23, 6, 8, 4, 14, 45, 41, 50, 29, 34, 22, 25, 40, 21, 3, 32, 16, 38, 17, 37, 42, 36, 15], 29, [8, 30, 37]], [[2, 30, 17, 12, 22, 11, 10, 41, 8, 35, 49, 29, 15, 50, 6, 3, 36, 34, 28, 32, 33, 44, 43, 24, 45, 47, 37, 19, 14, 18, 25, 27, 48, 7, 46, 21, 4, 26, 31, 13, 9, 42, 39, 1, 40, 51, 20, 23, 16, 5, 38, 0], 12, [48, 51]], [[0, 48, 34, 23, 29, 3, 24, 22, 15, 44, 18, 51, 12, 21, 37, 20, 2, 6, 50, 40, 13, 7, 45, 47, 33, 41, 17, 35, 36, 14, 25, 4, 19, 27, 9, 16, 28, 49, 32, 38, 31, 26, 42, 39, 1, 8, 10, 5, 30, 11, 43, 46], 33, [14, 35, 49]], [[19, 15, 38, 40, 49, 0, 17, 5, 25, 31, 26, 45, 23, 13, 7, 3, 41, 10, 16, 20, 42, 48, 4, 2, 30, 44, 28, 32, 46, 1, 47, 18, 36, 33, 6, 50, 29, 12, 24, 51, 37, 14, 22, 27, 11, 8, 35, 43, 34, 39, 9, 21], 13, [0, 15, 17]], [[15, 11, 44, 0, 13, 43, 16, 10, 14, 36, 25, 20, 7, 47, 23, 37, 46, 9, 45, 42, 4, 18, 3, 19, 32, 38, 49, 22, 40, 51, 27, 41, 5, 31, 34, 35, 24, 48, 28, 17, 39, 33, 6, 12, 21, 1, 8, 26, 29, 50, 2, 30], 15, []]]\n",
    "Q1a_pi=[10, 35, 29, 37, 44, 28, 12, 39, 34, 38, 0, 21, 6, 18, 22, 50, 47, 51, 13, 26, 40, 11, 14, 36, 42, 27, 19, 25, 5, 2, 43, 33, 46, 31, 8, 1, 23, 3, 9, 7, 20, 45, 24, 30, 4, 41, 32, 16, 49, 48, 15, 17]\n",
    "Q1a_sigma=[[0, 1, 2, 3, 15, 5, 6, 16, 19, 42, 10, 38, 12, 39, 14, 4, 7, 17, 25, 8, 41, 21, 22, 23, 44, 18, 26, 27, 28, 29, 30, 31, 32, 33, 34, 35, 36, 43, 11, 13, 40, 20, 9, 37, 24, 45, 46, 47, 48, 49, 50, 51], 32]\n",
    "Q1b_L=[97, 98, 99, 100, 101, 102, 103, 104, 105, 106, 107, 108, 109, 110, 111, 112, 113, 114, 115, 116, 117, 118, 119, 120, 121, 122, 65, 66, 67, 68, 69, 70, 71, 72, 73, 74, 75, 76, 77, 78, 79, 80, 81, 82, 83, 84, 85, 86, 87, 88, 89, 90]\n",
    "Q1b_Z=[32, 33, 34, 35, 36, 37, 38, 39, 40, 41, 42, 43, 44, 45, 46, 47, 58, 59, 60, 61, 62, 63, 64, 91, 92, 93, 94, 95, 96, 123, 124, 125, 126]\n",
    "Q1b_ct=[68, 32, 107, 77, 113, 39, 106, 32, 67, 114, 117, 114, 32, 68, 71, 32, 120, 120, 106, 32, 108, 112, 110, 117, 89, 69, 102, 46, 32, 75, 66, 110, 32, 71, 99, 76, 103, 78, 32, 34, 115, 32, 74, 109, 67, 104, 70, 90, 99, 32, 122, 83, 32, 71, 66, 111, 34, 32, 89, 111, 32, 76, 32, 90, 119, 115, 76, 122, 46, 32, 76, 71, 44, 32, 86, 104, 39, 66, 32, 65, 32, 103, 108, 107, 90, 75, 46, 32, 114, 82, 32, 74, 77, 97, 32, 112, 77, 112, 32, 72, 103, 74, 32, 114, 72, 65, 72, 77, 32, 107, 117, 32, 68, 112, 78, 109, 104, 32, 81, 79, 68, 76, 66, 69, 44, 32, 69, 83, 70, 99, 32, 120, 65, 67, 46, 32, 40, 115, 108, 77, 116, 99, 99, 84, 115, 32, 97, 78, 77, 80, 117, 118, 44, 32, 90, 99, 101, 85, 110, 114, 67, 41]\n",
    "Q1b_R=[[[8, 0, 21, 28, 24, 43, 18, 30, 19, 4, 10, 36, 17, 35, 39, 26, 51, 12, 34, 31, 6, 25, 37, 44, 9, 22, 47, 7, 50, 33, 23, 16, 3, 46, 2, 11, 45, 27, 42, 1, 32, 29, 48, 49, 40, 20, 41, 5, 38, 14, 13, 15], 22, [13, 14, 33, 48]], [[28, 18, 12, 9, 21, 43, 27, 30, 8, 34, 1, 23, 14, 11, 15, 47, 37, 51, 33, 49, 10, 36, 46, 29, 38, 41, 7, 5, 44, 6, 13, 32, 22, 16, 26, 3, 50, 35, 25, 0, 31, 42, 19, 39, 4, 20, 45, 48, 40, 17, 24, 2], 18, [31, 34, 43, 45]], [[9, 18, 43, 34, 15, 36, 38, 32, 50, 14, 7, 40, 29, 12, 42, 41, 46, 5, 51, 11, 19, 28, 26, 17, 8, 48, 25, 20, 27, 35, 1, 13, 23, 6, 31, 24, 21, 4, 33, 47, 0, 22, 2, 39, 44, 10, 45, 49, 30, 3, 16, 37], 48, [19, 34]], [[17, 31, 16, 44, 49, 26, 18, 36, 14, 39, 20, 3, 4, 32, 9, 8, 22, 11, 19, 12, 27, 41, 40, 24, 47, 23, 30, 34, 7, 42, 25, 28, 35, 15, 48, 0, 33, 45, 6, 38, 13, 5, 51, 29, 2, 50, 46, 21, 43, 10, 37, 1], 31, []], [[44, 45, 17, 7, 49, 39, 37, 1, 5, 28, 11, 15, 38, 29, 6, 25, 35, 16, 33, 24, 12, 34, 46, 19, 3, 14, 0, 18, 30, 50, 10, 43, 20, 41, 23, 48, 8, 40, 26, 21, 27, 51, 32, 31, 9, 42, 4, 22, 47, 2, 36, 13], 16, [11, 32]], [[36, 51, 31, 8, 50, 9, 13, 40, 24, 45, 34, 3, 7, 21, 23, 39, 15, 29, 30, 14, 2, 11, 33, 42, 16, 18, 0, 4, 48, 1, 17, 19, 38, 10, 12, 37, 26, 44, 32, 46, 49, 41, 20, 5, 43, 35, 25, 27, 28, 22, 6, 47], 6, []]]\n",
    "Q1b_pi=[28, 9, 4, 32, 2, 31, 36, 37, 10, 1, 8, 16, 13, 12, 49, 34, 11, 20, 19, 18, 17, 27, 44, 30, 45, 29, 43, 21, 0, 25, 23, 5, 3, 51, 15, 50, 6, 7, 42, 41, 46, 39, 38, 26, 22, 24, 40, 48, 47, 14, 35, 33]\n",
    "Q1b_sigma=[0, 36, 2, 40, 4, 9, 6, 7, 8, 5, 10, 11, 12, 13, 14, 34, 16, 17, 23, 21, 24, 19, 50, 18, 20, 25, 29, 27, 32, 26, 31, 30, 28, 33, 15, 35, 1, 37, 38, 39, 3, 41, 45, 43, 49, 42, 46, 47, 48, 44, 22, 51]\n",
    "Q1b_pt_checksum='767c901ef1130fd1175e4bc17b04ccc6'\n",
    "Q1c_L=[97, 98, 99, 100, 101, 102, 103, 104, 105, 106, 107, 108, 109, 110, 111, 112, 113, 114, 115, 116, 117, 118, 119, 120, 121, 122, 65, 66, 67, 68, 69, 70, 71, 72, 73, 74, 75, 76, 77, 78, 79, 80, 81, 82, 83, 84, 85, 86, 87, 88, 89, 90]\n",
    "Q1c_Z=[32, 33, 34, 35, 36, 37, 38, 39, 40, 41, 42, 43, 44, 45, 46, 47, 58, 59, 60, 61, 62, 63, 64, 91, 92, 93, 94, 95, 96, 123, 124, 125, 126]\n",
    "Q1c_pt_view=[-1, -1, 119, 111, 110, -1, -1, -1, -1, -1, -1, -1, 121, 111, -1, -1, -1, 111, -1, -1, -1, -1, -1, -1, -1, -1, -1, 89, 111, -1, -1, 103, -1, -1, 97, -1, 116, -1, 114, -1, -1, -1, -1, 108, 100, -1, 98, -1, -1, 115, -1, -1, 108, 105, 101, 100, -1, 105, -1, -1, 97, -1, -1, -1, -1, 102, -1, 114, 105, 111, -1, -1, -1, -1, -1, 114, 116, 121, -1, 112, -1, 114, -1, -1, -1, -1, -1, 105, 107, -1, -1, 121, 111, -1, -1, -1, 101, -1, 101, -1, -1, 111, -1, -1, -1, 117, 99, -1, -1, 104, 105, -1, -1, -1, -1, 115, -1, -1, -1, -1, -1, 111, -1, 65, 108, 111, -1, -1, -1, -1, -1, -1, -1, 98, 97, 115, 116, -1, 97, 110, -1, -1, -1, 99, 104, -1, -1, 108, 105, -1, -1, -1, 75, -1, -1, -1, 115, -1, 105, 116, -1, 117, -1, 105, -1]\n",
    "Q1c_ct=[100, 32, 122, 107, 68, 39, 98, 32, 111, 89, 77, 32, 115, 103, 111, 32, 97, 118, 75, 101, 88, 32, 89, 99, 117, 46, 32, 119, 122, 78, 98, 110, 32, 117, 117, 75, 113, 73, 99, 32, 81, 107, 111, 87, 88, 32, 83, 99, 32, 114, 90, 71, 82, 89, 120, 105, 32, 88, 110, 32, 74, 103, 32, 84, 99, 78, 116, 68, 99, 84, 120, 44, 32, 86, 87, 77, 122, 76, 32, 70, 104, 120, 67, 77, 68, 32, 102, 104, 74, 66, 32, 120, 84, 75, 32, 77, 67, 101, 118, 32, 69, 101, 32, 84, 108, 65, 88, 116, 32, 121, 83, 101, 46, 32, 42, 71, 70, 80, 107, 32, 75, 72, 32, 87, 85, 122, 118, 111, 42, 32, 40, 118, 67, 88, 74, 103, 75, 67, 113, 118, 32, 99, 83, 68, 109, 66, 78, 89, 112, 105, 44, 32, 90, 68, 99, 119, 68, 106, 66, 85, 105, 111, 105, 74, 41]\n",
    "Q1c_trace={1: [[[{20: 48, 30: 46, 42: 26, 47: 13}, -1, [-1, -1, -1]], [{17: 36, 23: 14, 28: 24, 45: 43}, 0, [44]], [{1: 11, 16: 38, 27: 44, 34: 51}, 23, [-1, -1, -1]], [{5: 38, 28: 2, 46: 11, 51: 23}, 16, []], [{15: 31, 16: 25, 41: 0, 47: 46}, 28, []]], {1: 33, 2: 0, 3: 46, 7: 23, 8: 39, 10: 16, 12: 11, 13: 41, 14: 45, 18: 38, 20: 5, 22: 44, 23: 7, 26: 27, 27: 26, 28: 37, 31: 51, 33: 1, 35: 4, 36: 29, 39: 8, 40: 50, 42: 34, 45: 14, 46: 3, 49: 32, 51: 31}, [{}, -1]], 14: [[[{7: 22, 8: 36, 18: 1, 24: 16}, -1, [-1, -1, -1]], [{9: 35, 16: 46, 42: 22, 49: 1}, 1, [-1]], [{17: 16, 26: 45, 41: 0, 51: 17}, 23, [-1, -1, -1]], [{6: 36, 11: 50, 18: 20, 43: 1}, 16, []], [{19: 17, 24: 33, 31: 22, 51: 10}, 28, []]], {}, [{}, -1]], 18: [[[{6: 30, 14: 20, 29: 45, 37: 19}, -1, [-1, 18, -1]], [{3: 13, 8: 8, 25: 29, 37: 48, 50: 41}, 1, [-1]], [{3: 50, 9: 47, 35: 22, 37: 35}, 23, [-1, -1, -1]], [{4: 48, 13: 12, 26: 8, 42: 40}, 16, []], [{23: 49, 29: 42, 35: 1, 49: 43}, 28, []]], {}, [{49: 43}, 16]], 49: [[[{12: 32, 13: 9, 33: 14, 50: 34}, -1, [-1, -1, -1]], [{10: 23, 34: 18, 36: 15, 47: 16}, 2, [-1]], [{13: 1, 32: 36, 40: 15, 47: 6}, 23, [-1, -1, -1]], [{22: 19, 27: 43, 44: 4, 45: 37}, 16, []], [{0: 2, 10: 39, 18: 30, 32: 14, 33: 44, 40: 3, 46: 9}, 28, []]], {}, [{}, -1]], 86: [[[{4: 18, 5: 40, 21: 43, 44: 31}, -1, [-1, -1, -1]], [{4: 51, 24: 42, 27: 37, 31: 9}, 4, [-1]], [{6: 28, 24: 13, 25: 24, 48: 9}, 23, [-1, -1, 51]], [{3: 18, 15: 31, 25: 15, 30: 47}, 16, []], [{2: 15, 8: 26, 11: 34, 30: 13}, 28, []]], {}, [{23: 24, 33: 26, 39: 20, 48: 9}, -1]], 89: [[[{0: 27, 39: 2, 43: 5, 51: 42}, -1, [-1, -1, 45]], [{14: 47, 22: 49, 30: 17, 46: 7}, 4, [-1]], [{2: 21, 23: 33, 31: 14, 36: 43}, 23, [-1, -1, -1]], [{7: 0, 8: 5, 10: 17, 16: 10, 24: 13, 31: 45, 33: 6, 35: 35, 39: 21, 50: 9}, 16, []], [{1: 11, 4: 27, 9: 18, 12: 20, 26: 8}, 28, []]], {0: 2, 5: 20, 9: 43, 17: 47, 24: 6, 29: 36}, [{}, -1]], 124: [[[{11: 8, 23: 37, 25: 49, 48: 21}, -1, [-1, -1, -1]], [{7: 11, 18: 2, 21: 33, 29: 27}, 5, [-1]], [{38: 26, 42: 49, 49: 42, 50: 29}, 23, [-1, -1, -1]], [{0: 44, 9: 16, 14: 7, 17: 33, 32: 28, 38: 22}, 16, []], [{21: 16, 36: 29, 43: 28, 50: 47}, 28, []]], {}, [{21: 16}, -1]], 132: [[[{9: 29, 31: 12, 32: 51, 49: 4}, -1, [7, -1, -1]], [{2: 44, 38: 26, 39: 5, 51: 3}, 5, [-1]], [{0: 10, 4: 23, 14: 39, 28: 37, 29: 32, 39: 19, 43: 7, 45: 2, 46: 25}, 23, [-1, 31, -1]], [{2: 39, 29: 25, 36: 46, 37: 14}, 16, []], [{6: 24, 25: 21, 42: 12, 45: 38}, 28, []]], {6: 24, 11: 12, 16: 10, 32: 49, 34: 42, 38: 18, 41: 13, 43: 9, 44: 22, 50: 40}, [{}, -1]], 144: [[[{17: 47, 26: 15, 35: 7, 38: 10, 41: 25, 45: 28}, -1, [-1, -1, -1]], [{26: 4, 32: 34, 41: 32, 43: 45}, 6, [-1]], [{7: 3, 8: 27, 10: 5, 21: 41}, 23, [-1, -1, -1]], [{12: 29, 19: 41, 23: 49, 49: 34}, 16, []], [{5: 50, 7: 23, 17: 4, 22: 40}, 28, []]], {}, [{2: 50, 9: 48, 11: 14, 16: 21, 17: 7, 18: 10, 19: 40, 20: 39, 22: 35, 26: 33, 32: 3, 36: 46, 41: 29, 42: 27}, -1]], 146: [[[{10: 23, 16: 17, 22: 50, 28: 6, 34: 44}, -1, [-1, -1, -1]], [{6: 28, 19: 40, 33: 38, 44: 12}, 6, [-1]], [{11: 4, 12: 34, 15: 46, 20: 30, 30: 8, 33: 40, 44: 20}, 23, [-1, -1, -1]], [{21: 30, 40: 3, 41: 51, 48: 26}, 16, []], [{3: 5, 13: 7, 20: 41, 28: 51, 34: 6, 37: 35, 38: 37, 48: 48}, 28, []]], {4: 35, 30: 48, 37: 28, 47: 17, 48: 30}, [{0: 38, 1: 1, 5: 5, 6: 6, 7: 17, 8: 8, 10: 18, 12: 12, 13: 13, 25: 31, 27: 42, 28: 28, 29: 41, 34: 34, 37: 37, 44: 44, 45: 45, 51: 51}, -1]], 158: [[[{1: 35, 2: 0, 3: 33, 15: 39, 19: 24, 27: 41, 36: 11, 40: 3, 46: 38}, -1, [-1, -1, -1]], [{0: 10, 1: 19, 5: 31, 11: 50, 12: 39, 13: 21, 15: 20, 20: 0, 35: 30, 40: 6, 48: 25}, 7, [-1]], [{5: 12, 18: 48, 19: 18, 22: 31}, 23, [5, -1, -1]], [{1: 27, 20: 24, 34: 32, 47: 42}, 16, []], [{14: 45, 27: 32, 39: 19, 44: 36}, 28, []]], {}, [{14: 11, 43: 49}, -1]]}\n",
    "Q1c_sk_checksum='78d13a83e618df86bdccd267ddd6c0a3'\n",
    "Q1c_pt_checksum='0523c57776c7c34917df6608533eb752'"
   ]
  },
  {
   "cell_type": "code",
   "execution_count": 2,
   "id": "1ac26a34",
   "metadata": {},
   "outputs": [],
   "source": [
    "# Constants \n",
    "alphabet = Q1a_L\n",
    "N = len(alphabet)"
   ]
  },
  {
   "cell_type": "code",
   "execution_count": 3,
   "id": "a590071c",
   "metadata": {},
   "outputs": [],
   "source": [
    "# Helper functions\n",
    "\n",
    "def checksum(*args, sep=';'):\n",
    "    data = sep.join(map(str, args)).encode()\n",
    "    return hashlib.new('md5', data=data).hexdigest()\n",
    "\n",
    "def perm_concat(perms):\n",
    "    res = []\n",
    "    for i in range(N):\n",
    "        pi = i\n",
    "        for perm in perms:\n",
    "            pi = perm[pi]\n",
    "        res.append(pi)\n",
    "    return res\n",
    "\n",
    "def perm_inverse(perm):\n",
    "    return [perm.index(i) for i in range(N)]\n"
   ]
  },
  {
   "cell_type": "code",
   "execution_count": 4,
   "id": "50e23f7d",
   "metadata": {},
   "outputs": [],
   "source": [
    "#Enigma \n",
    "def enigma(K,text):\n",
    "    #Make deep copies to avoid border effects\n",
    "    rotors = [K[0][i].copy()for i in range(len(K[0]))] \n",
    "    pi = K[1].copy()\n",
    "    sigma = [K[2][0].copy(),K[2][1]]\n",
    "    result = []\n",
    "    \n",
    "    for c in text:\n",
    "        if(c not in alphabet):\n",
    "            result.append(c)\n",
    "        else:\n",
    "            rotated = []\n",
    "            p10_old = rotors[0][1]\n",
    "            rotors[0][1] = (rotors[0][1] + 1) % N\n",
    "\n",
    "            if p10_old in rotors[0][2]:\n",
    "                rotors[1][1] = (rotors[1][1] + 1) % N\n",
    "                rotated.append(1)\n",
    "\n",
    "            for i in range(1,len(rotors)-1):\n",
    "                if (i not in rotated) and (rotors[i][1] in rotors[i][2]) :\n",
    "                    rotors[i][1] = (rotors[i][1] + 1) % N\n",
    "                    rotors[i+1][1] = (rotors[i+1][1] + 1) % N\n",
    "                    rotated.append(i+1)\n",
    "                    \n",
    "            alphas = []\n",
    "            for i in range(len(rotors)):\n",
    "                alphas.append([(rotors[i][0][(k + rotors[i][1])%N]- rotors[i][1])%N for k in range(N)])\n",
    "                \n",
    "            alphas = perm_concat(alphas)\n",
    "            inv_alphas = perm_inverse(alphas)\n",
    "            perm = perm_concat([sigma[0],alphas,pi,inv_alphas,sigma[0]])\n",
    "            result.append(alphabet[perm[alphabet.index(c)]])\n",
    "    return [rotors,pi,sigma], result \n",
    "    "
   ]
  },
  {
   "cell_type": "code",
   "execution_count": 5,
   "id": "df82d435",
   "metadata": {},
   "outputs": [
    {
     "data": {
      "text/plain": [
       "True"
      ]
     },
     "execution_count": 5,
     "metadata": {},
     "output_type": "execute_result"
    }
   ],
   "source": [
    "K_, text = enigma([Q1a_R,Q1a_pi,Q1a_sigma],Q1a_pt)\n",
    "text == Q1a_ct"
   ]
  },
  {
   "cell_type": "code",
   "execution_count": 6,
   "id": "deb5be20",
   "metadata": {
    "scrolled": true
   },
   "outputs": [
    {
     "name": "stdout",
     "output_type": "stream",
     "text": [
      "I don't want to lie anymore. The words \"I believe in you\" is a curse. No, it's a spell. If the one who hears it feels cursed, they are. (Watanuki Sakuya, SERVAMP)\n",
      "\n",
      "Plain text checksum:  True\n"
     ]
    }
   ],
   "source": [
    "K_, text = enigma([Q1b_R,Q1b_pi,[Q1b_sigma,0]],Q1b_ct)\n",
    "s_text = \"\"\n",
    "for c in text: s_text = s_text + chr(c)\n",
    "print(s_text)\n",
    "data = base64.b64encode(s_text.encode()).decode() # type: str\n",
    "print(\"\")\n",
    "print(\"Plain text checksum: \",checksum(data) == Q1b_pt_checksum)"
   ]
  },
  {
   "cell_type": "code",
   "execution_count": null,
   "id": "b6885036",
   "metadata": {},
   "outputs": [],
   "source": []
  },
  {
   "cell_type": "code",
   "execution_count": 7,
   "id": "b9b0d343",
   "metadata": {},
   "outputs": [],
   "source": [
    "#Information gathering \n",
    "trace_rotors = [[{},-1,[]] for _ in range(5)] # There are 5 rotors in this Enigma machine \n",
    "trace_pi = {}\n",
    "trace_sigma = [{},-1]\n",
    "\n",
    "for k in Q1c_trace.keys():\n",
    "    ######################################################\n",
    "    # FILLING TRACE_ROTORS\n",
    "    i=0\n",
    "    for rotor in Q1c_trace[k][0]: # For each rotor in K rotors. \n",
    "        trace_rotors[i][0] = trace_rotors[i][0] | rotor[0] # Join rotor permutations maps\n",
    "        for rot_point in rotor[2]:\n",
    "            if(rot_point>=0 and rot_point not in trace_rotors[i][2]): #Add rotation points\n",
    "                trace_rotors[i][2].append(rot_point)\n",
    "        i=i+1\n",
    "        \n",
    "    ######################################################\n",
    "    # FILLING TRACE_PI\n",
    "    trace_pi = trace_pi | Q1c_trace[k][1] # Joining permutation maps\n",
    "    \n",
    "    ######################################################\n",
    "    # FILLING TRACE_PI\n",
    "    trace_sigma[0] = trace_sigma[0] | Q1c_trace[k][2][0] # Joining permutation maps\n",
    "    if(Q1c_trace[k][2][1]>=0):\n",
    "        trace_sigma[1] = Q1c_trace[k][2][1] # Finding #Stationary points\n",
    "\n",
    "##########################################################\n",
    "# RECOVERING POINTS IN PI AND SIGMA USING THE PROPERTY : pi{pi{x}} = x \n",
    "for k, v in trace_pi.items():\n",
    "    trace_pi = trace_pi | {v:k}\n",
    "for k, v in trace_sigma[0].items():\n",
    "    trace_sigma[0] = trace_sigma[0] | {v:k}\n",
    "    \n",
    "##########################################################\n",
    "# RECOVERING STARTING POINTS FROM INITIAL RUN \n",
    "i=0\n",
    "for initial_rotor in Q1c_trace[1][0]:\n",
    "    trace_rotors[i][1] = initial_rotor[1]\n",
    "    i=i+1\n",
    "##########################################################\n",
    "# SORTING THE ROTATION POINTS (for Checksum)\n",
    "for rotor in trace_rotors:\n",
    "    rotor[2].sort()"
   ]
  },
  {
   "cell_type": "code",
   "execution_count": 8,
   "id": "1115751f",
   "metadata": {},
   "outputs": [
    {
     "name": "stdout",
     "output_type": "stream",
     "text": [
      "trace_pi permutation lenght : 48 out of 52.\n",
      "\n",
      "trace_sigma permutation lenght : 48 out of 52.\n",
      "Found number of stationary Points in trace_sigma: 12\n",
      "Total number of stationary Points in sigma: 16\n",
      "\n",
      "trace_rotor 0\n",
      "Permutation lenght : 52 out of 52 || Starting point -1||Rotation points [7, 18, 45]\n",
      "\n",
      "trace_rotor 1\n",
      "Permutation lenght : 52 out of 52 || Starting point 0||Rotation points [44]\n",
      "\n",
      "trace_rotor 2\n",
      "Permutation lenght : 52 out of 52 || Starting point 23||Rotation points [5, 31, 51]\n",
      "\n",
      "trace_rotor 3\n",
      "Permutation lenght : 52 out of 52 || Starting point 16||Rotation points []\n",
      "\n",
      "trace_rotor 4\n",
      "Permutation lenght : 52 out of 52 || Starting point 28||Rotation points []\n",
      "\n"
     ]
    }
   ],
   "source": [
    "#Revieving information \n",
    "print(\"trace_pi permutation lenght :\",len(trace_pi),\"out of 52.\")\n",
    "print(\"\")\n",
    "\n",
    "s_point = 0 \n",
    "for k in trace_sigma[0].keys():\n",
    "    if(k == trace_sigma[0][k]): #Definition of stationary point\n",
    "        s_point=s_point+1\n",
    "\n",
    "print(\"trace_sigma permutation lenght :\",len(trace_sigma[0]),\"out of 52.\")\n",
    "print(\"Found number of stationary Points in trace_sigma:\",s_point)\n",
    "print(\"Total number of stationary Points in sigma:\",trace_sigma[1])\n",
    "print(\"\")\n",
    "\n",
    "i=0\n",
    "for rotor in trace_rotors:\n",
    "    print(\"trace_rotor\",i)\n",
    "    print(\"Permutation lenght :\",len(rotor[0]),\"out of 52\",end=\" || \")\n",
    "    print(\"Starting point\",rotor[1],end=\"||\")\n",
    "    print(\"Rotation points\",rotor[2])\n",
    "    print(\"\")\n",
    "    i=i+1"
   ]
  },
  {
   "cell_type": "code",
   "execution_count": 9,
   "id": "19ee8a2a",
   "metadata": {},
   "outputs": [],
   "source": [
    "def perm_from_dict(mapping):\n",
    "    result = [-1 for _ in range(N)]\n",
    "    for k,v in mapping.items():\n",
    "        result[k] = v\n",
    "    return result"
   ]
  },
  {
   "cell_type": "code",
   "execution_count": 10,
   "id": "c6d08414",
   "metadata": {},
   "outputs": [],
   "source": [
    "# TRANSFORM DATA \n",
    "r_rotors = [[[],-1,[]] for _ in range(5)]\n",
    "r_pi = perm_from_dict(trace_pi)\n",
    "r_sigma = [perm_from_dict(trace_sigma[0]),trace_sigma[1]]\n",
    "\n",
    "i=0\n",
    "for rotor in trace_rotors:\n",
    "    r_rotors[i][0] = perm_from_dict(rotor[0]).copy() # Permutation\n",
    "    r_rotors[i][1] = rotor[1] # Starting point\n",
    "    r_rotors[i][2] = rotor[2].copy() \n",
    "    i=i+1"
   ]
  },
  {
   "cell_type": "code",
   "execution_count": 11,
   "id": "b142a037",
   "metadata": {},
   "outputs": [
    {
     "name": "stdout",
     "output_type": "stream",
     "text": [
      "38,1,50,32,4,5,6,17,8,48,18,14,12,13,11,15,21,7,10,40,39,16,35,24,23,31,33,42,28,41,30,25,3,26,34,22,46,37,0,20,19,29,27,49,44,45,36,47,9,43,2,51,"
     ]
    }
   ],
   "source": [
    "# Add missing stationary points to sigma \n",
    "for i in range(N):\n",
    "    if(r_sigma[0][i]==-1):\n",
    "        r_sigma[0][i]=i\n",
    "for k in r_sigma[0]:\n",
    "    print(k,end=\",\")"
   ]
  },
  {
   "cell_type": "code",
   "execution_count": 12,
   "id": "c32e7201",
   "metadata": {},
   "outputs": [
    {
     "name": "stdout",
     "output_type": "stream",
     "text": [
      "15, 19, 21, 25, "
     ]
    }
   ],
   "source": [
    "# Build PI possibilities \n",
    "mp = []\n",
    "for i in range(N):\n",
    "    if(r_pi[i]==-1):\n",
    "        mp.append(i)\n",
    "        print(i,end=\", \")\n",
    "pis = [r_pi.copy(),r_pi.copy(),r_pi.copy()]\n",
    "pis[0][mp[0]] = mp[1]; pis[0][mp[1]] = mp[0]; pis[0][mp[2]] = mp[3]; pis[0][mp[3]] = mp[2]; \n",
    "pis[1][mp[0]] = mp[2]; pis[1][mp[2]] = mp[0]; pis[1][mp[1]] = mp[3]; pis[1][mp[3]] = mp[1]; \n",
    "pis[2][mp[0]] = mp[3]; pis[2][mp[3]] = mp[0]; pis[2][mp[2]] = mp[1]; pis[2][mp[1]] = mp[2]; "
   ]
  },
  {
   "cell_type": "code",
   "execution_count": 13,
   "id": "82935a01",
   "metadata": {},
   "outputs": [
    {
     "name": "stdout",
     "output_type": "stream",
     "text": [
      "Decrypted correctly!\n"
     ]
    }
   ],
   "source": [
    "# Time to brute force ! \n",
    "# There are only 3*52 strings to check :) \n",
    "s_text = \"\"\n",
    "s_k = []\n",
    "found = false\n",
    "\n",
    "for p1 in range(N):\n",
    "    if(found):\n",
    "        break\n",
    "    r_rotors[0][1] = p1\n",
    "    i=0\n",
    "    for pi in pis:\n",
    "        s_k = [r_rotors,pi,r_sigma]\n",
    "        K_, text = enigma(s_k,Q1c_ct)\n",
    "        s_text = \"\"\n",
    "        for c in text: s_text = s_text + chr(c)\n",
    "        data = base64.b64encode(s_text.encode()).decode() # type: str\n",
    "        if(checksum(data) == Q1c_pt_checksum): \n",
    "            print(\"Decrypted correctly!\")\n",
    "            found = true \n",
    "            break\n",
    "        i=i+1\n",
    "if(not found):\n",
    "    print(\"Decryption failed\")"
   ]
  },
  {
   "cell_type": "code",
   "execution_count": 14,
   "id": "b6fb9c91",
   "metadata": {},
   "outputs": [
    {
     "name": "stdout",
     "output_type": "stream",
     "text": [
      "I won't let you touch him. Young master would be sullied if an inferior, dirty person like you were to touch him. *says to Alois* (Sebastian Michaelis, Kuroshitsuji)\n"
     ]
    }
   ],
   "source": [
    "K_, text = enigma(s_k,Q1c_ct)\n",
    "s_text = \"\"\n",
    "for c in text: s_text = s_text + chr(c)\n",
    "print(s_text)"
   ]
  },
  {
   "cell_type": "code",
   "execution_count": 15,
   "id": "dfc0b214",
   "metadata": {},
   "outputs": [
    {
     "name": "stdout",
     "output_type": "stream",
     "text": [
      "FOR 1.2\n",
      "Plain text checksum for 1.2:  True\n",
      "Q1b_pt\n",
      "SSBkb24ndCB3YW50IHRvIGxpZSBhbnltb3JlLiBUaGUgd29yZHMgIkkgYmVsaWV2ZSBpbiB5b3UiIGlzIGEgY3Vyc2UuIE5vLCBpdCdzIGEgc3BlbGwuIElmIHRoZSBvbmUgd2hvIGhlYXJzIGl0IGZlZWxzIGN1cnNlZCwgdGhleSBhcmUuIChXYXRhbnVraSBTYWt1eWEsIFNFUlZBTVAp\n",
      "\n",
      "FOR 1.3\n",
      "Plain text checksum for 1.3:  True\n",
      "Key checksum for 1.3:  True\n",
      "Q1sk_k\n",
      "[[[[27, 35, 0, 33, 18, 40, 30, 22, 36, 29, 23, 8, 32, 9, 20, 39, 17, 47, 1, 24, 48, 43, 50, 37, 16, 49, 15, 41, 6, 45, 46, 12, 51, 14, 44, 7, 11, 19, 10, 2, 3, 25, 26, 5, 31, 28, 38, 13, 21, 4, 34, 42], 10, [7, 18, 45]], [[10, 19, 44, 13, 51, 31, 28, 11, 8, 35, 23, 50, 39, 21, 47, 20, 46, 36, 2, 40, 0, 33, 49, 14, 42, 29, 4, 37, 24, 27, 17, 9, 34, 38, 18, 30, 15, 48, 26, 5, 6, 32, 22, 45, 12, 43, 7, 16, 25, 1, 41, 3], 0, [44]], [[10, 11, 21, 50, 23, 12, 28, 3, 27, 47, 5, 4, 34, 1, 39, 46, 38, 16, 48, 18, 30, 41, 31, 33, 13, 24, 45, 44, 37, 32, 8, 14, 36, 40, 51, 22, 43, 35, 26, 19, 15, 0, 49, 7, 20, 2, 25, 6, 9, 42, 29, 17], 23, [5, 31, 51]], [[44, 27, 39, 18, 48, 38, 36, 0, 5, 16, 17, 50, 29, 12, 7, 31, 10, 33, 20, 41, 24, 30, 19, 49, 13, 15, 8, 43, 2, 25, 47, 45, 28, 6, 32, 35, 46, 14, 22, 21, 3, 51, 40, 1, 4, 37, 11, 42, 26, 34, 9, 23], 16, []], [[2, 11, 15, 5, 27, 50, 24, 23, 26, 18, 39, 34, 20, 7, 45, 31, 25, 4, 30, 17, 41, 16, 40, 49, 33, 21, 8, 32, 51, 42, 13, 22, 14, 44, 6, 1, 29, 35, 37, 19, 3, 0, 12, 28, 36, 38, 9, 46, 48, 43, 47, 10], 28, []]], [2, 33, 0, 46, 35, 20, 24, 23, 39, 43, 16, 12, 11, 41, 45, 19, 10, 47, 38, 15, 5, 25, 44, 7, 6, 21, 27, 26, 37, 36, 48, 51, 49, 1, 42, 4, 29, 28, 18, 8, 50, 13, 34, 9, 22, 14, 3, 17, 30, 32, 40, 31], [[38, 1, 50, 32, 4, 5, 6, 17, 8, 48, 18, 14, 12, 13, 11, 15, 21, 7, 10, 40, 39, 16, 35, 24, 23, 31, 33, 42, 28, 41, 30, 25, 3, 26, 34, 22, 46, 37, 0, 20, 19, 29, 27, 49, 44, 45, 36, 47, 9, 43, 2, 51], 16]]\n",
      "\n",
      "Q1c_pt\n",
      "SSB3b24ndCBsZXQgeW91IHRvdWNoIGhpbS4gWW91bmcgbWFzdGVyIHdvdWxkIGJlIHN1bGxpZWQgaWYgYW4gaW5mZXJpb3IsIGRpcnR5IHBlcnNvbiBsaWtlIHlvdSB3ZXJlIHRvIHRvdWNoIGhpbS4gKnNheXMgdG8gQWxvaXMqIChTZWJhc3RpYW4gTWljaGFlbGlzLCBLdXJvc2hpdHN1amkp\n"
     ]
    }
   ],
   "source": [
    "#RESULTS \n",
    "####################################################\n",
    "####################################################\n",
    "# ADD QUOTES TO plain text in the solution file \n",
    "####################################################\n",
    "####################################################\n",
    "# 1.2\n",
    "print(\"FOR 1.2\")\n",
    "K_, text = enigma([Q1b_R,Q1b_pi,[Q1b_sigma,0]],Q1b_ct)\n",
    "s_text = \"\"\n",
    "for c in text: s_text = s_text + chr(c)\n",
    "data = base64.b64encode(s_text.encode()).decode() # type: str\n",
    "print(\"Plain text checksum for 1.2: \",checksum(data) == Q1b_pt_checksum)\n",
    "print(\"Q1b_pt\")\n",
    "print(base64.b64encode(s_text.encode()).decode(\"utf-8\"))\n",
    "print(\"\")\n",
    "print(\"FOR 1.3\")\n",
    "K_, text = enigma(s_k,Q1c_ct)\n",
    "s_text = \"\"\n",
    "for c in text: s_text = s_text + chr(c)\n",
    "data = base64.b64encode(s_text.encode()).decode() # type: str\n",
    "print(\"Plain text checksum for 1.3: \",checksum(data) == Q1c_pt_checksum)\n",
    "print(\"Key checksum for 1.3: \",checksum(s_k) == Q1c_sk_checksum)\n",
    "print(\"Q1sk_k\")\n",
    "print(s_k)\n",
    "print(\"\")\n",
    "print(\"Q1c_pt\")\n",
    "print(base64.b64encode(s_text.encode()).decode(\"utf-8\"))\n",
    "\n"
   ]
  },
  {
   "cell_type": "code",
   "execution_count": 16,
   "id": "420029a6",
   "metadata": {},
   "outputs": [
    {
     "data": {
      "text/plain": [
       "\"\\nQ1b_pt='V2hlbiByZWNlaXZpbmcgYW4gaWxsb2dpY2FsIGZhdm9yIGZyb20gb3RoZXJzLCBvbmUgc2hvdWxkIGRvIHRoZSBzYW1lIHRvIHJldHVybi\\n        B0aGUgaWxsb2dpY2FsIGZhdm9yLiAoRnJvbnRpZXIgU2V0dGVyLCBSYWt1ZW4gVHN1aWjFjSAtIEV4cGVsbGVkIGZyb20gUGFyYWRpc2Up'\\n\\nQ1c_sk=[[[[38, 43, 14, 15, 32, 22, 40, 8, 1, 12, 31, 42, 0, 41, 11, 25, 34, 37, 10, 30, 45, 23, 26, 35, 19, 28, 39, 47, 16, 48, 2, 29, 7, 4, 44, 50, 13, 46, 24, 33, 49, 36, 6, 17, 5, 20, 9, 51, 21, 3, 27, 18], 39, [20, 27, 35]],\\n        [[15, 1, 12, 13, 46, 31, 25, 3, 0, 48, 11, 49, 40, 47, 7, 30, 23, 18, 24, 16, 5, 10, 29, 35, 22, 50, 6, 33, 51, 4, 20, 41, 42, 37, 2, 32, 34, 27, 14, 44, 43, 9, 8, 17, 38, 28, 45, 26, 19, 39, 21, 36], 23, [1, 36, 37]],\\n        [[42, 20, 15, 1, 21, 7, 50, 16, 0, 39, 12, 22, 37, 34, 6, 35, 8, 49, 29, 3, 38, 2, 40, 46, 51, 41, 11, 23, 24, 17, 26, 5, 32, 30, 4, 18, 44, 43, 27, 14, 31, 36, 28, 48, 10, 47, 9, 25, 19, 13, 33, 45], 6, [26]],\\n        [[30, 51, 21, 11, 34, 19, 47, 28, 44, 8, 43, 36, 3, 26, 12, 6, 37, 17, 42, 7, 4, 10, 16, 15, 48, 32, 23, 40, 9, 0, 20, 27, 29, 18, 25, 2, 45, 35, 24, 33, 1, 41, 46, 14, 5, 22, 39, 31, 50, 13, 38, 49], 6, [21]],\\n        [[34, 46, 30, 6, 18, 51, 2, 12, 27, 39, 24, 8, 5, 32, 22, 42, 29, 43, 0, 25, 41, 1, 7, 45, 23, 20, 15, 10, 9, 28, 11, 37, 44, 48, 16, 40, 31, 38, 19, 4, 50, 14, 47, 13, 17, 3, 21, 49, 33, 36, 26, 35], 51, []]],\\n        [1, 0, 19, 15, 26, 39, 13, 22, 10, 33, 8, 17, 51, 6, 47, 3, 27, 11, 41, 2, 28, 45, 7, 30, 25, 24, 4, 16, 20, 32, 23, 34, 29, 9, 31, 44, 49, 42, 43, 5, 48, 18, 37, 38, 35, 21, 50, 14, 40, 36, 46, 12],\\n        [[0, 1, 2, 3, 33, 5, 36, 7, 22, 9, 10, 11, 17, 26, 35, 15, 16, 12, 46, 25, 20, 42, 8, 43, 24, 19, 13, 51, 39, 48, 30, 31, 32, 4, 34, 14, 6, 37, 38, 28, 40, 41, 21, 23, 44, 45, 18, 47, 29, 49, 50, 27], 26]]\\n\\nQ1c_pt='QmVjYXVzZSBoZSBhdHRhaW5lZCBzbyBtdWNoIHBvd2VyLCBoZSBjb3VsZCBvbmx5IGJlIGNvbnRyb2xsZWQgYnkgaXQuIEFuZCBpbiB0aGU\\n        gZW5kLCBtYXliZSBoaXMgb25seSBvcHRpb24gd2FzIHRvIGRlc3Ryb3kgaGltc2VsZi4gKEt1cm9zYWtpIEljaGlnbywgQmxlYWNoKQ=='\\n\\n\""
      ]
     },
     "execution_count": 16,
     "metadata": {},
     "output_type": "execute_result"
    }
   ],
   "source": [
    "# Example submission : \n",
    "\"\"\"\n",
    "Q1b_pt='V2hlbiByZWNlaXZpbmcgYW4gaWxsb2dpY2FsIGZhdm9yIGZyb20gb3RoZXJzLCBvbmUgc2hvdWxkIGRvIHRoZSBzYW1lIHRvIHJldHVybi\n",
    "        B0aGUgaWxsb2dpY2FsIGZhdm9yLiAoRnJvbnRpZXIgU2V0dGVyLCBSYWt1ZW4gVHN1aWjFjSAtIEV4cGVsbGVkIGZyb20gUGFyYWRpc2Up'\n",
    "\n",
    "Q1c_sk=[[[[38, 43, 14, 15, 32, 22, 40, 8, 1, 12, 31, 42, 0, 41, 11, 25, 34, 37, 10, 30, 45, 23, 26, 35, 19, 28, 39, 47, 16, 48, 2, 29, 7, 4, 44, 50, 13, 46, 24, 33, 49, 36, 6, 17, 5, 20, 9, 51, 21, 3, 27, 18], 39, [20, 27, 35]],\n",
    "        [[15, 1, 12, 13, 46, 31, 25, 3, 0, 48, 11, 49, 40, 47, 7, 30, 23, 18, 24, 16, 5, 10, 29, 35, 22, 50, 6, 33, 51, 4, 20, 41, 42, 37, 2, 32, 34, 27, 14, 44, 43, 9, 8, 17, 38, 28, 45, 26, 19, 39, 21, 36], 23, [1, 36, 37]],\n",
    "        [[42, 20, 15, 1, 21, 7, 50, 16, 0, 39, 12, 22, 37, 34, 6, 35, 8, 49, 29, 3, 38, 2, 40, 46, 51, 41, 11, 23, 24, 17, 26, 5, 32, 30, 4, 18, 44, 43, 27, 14, 31, 36, 28, 48, 10, 47, 9, 25, 19, 13, 33, 45], 6, [26]],\n",
    "        [[30, 51, 21, 11, 34, 19, 47, 28, 44, 8, 43, 36, 3, 26, 12, 6, 37, 17, 42, 7, 4, 10, 16, 15, 48, 32, 23, 40, 9, 0, 20, 27, 29, 18, 25, 2, 45, 35, 24, 33, 1, 41, 46, 14, 5, 22, 39, 31, 50, 13, 38, 49], 6, [21]],\n",
    "        [[34, 46, 30, 6, 18, 51, 2, 12, 27, 39, 24, 8, 5, 32, 22, 42, 29, 43, 0, 25, 41, 1, 7, 45, 23, 20, 15, 10, 9, 28, 11, 37, 44, 48, 16, 40, 31, 38, 19, 4, 50, 14, 47, 13, 17, 3, 21, 49, 33, 36, 26, 35], 51, []]],\n",
    "        [1, 0, 19, 15, 26, 39, 13, 22, 10, 33, 8, 17, 51, 6, 47, 3, 27, 11, 41, 2, 28, 45, 7, 30, 25, 24, 4, 16, 20, 32, 23, 34, 29, 9, 31, 44, 49, 42, 43, 5, 48, 18, 37, 38, 35, 21, 50, 14, 40, 36, 46, 12],\n",
    "        [[0, 1, 2, 3, 33, 5, 36, 7, 22, 9, 10, 11, 17, 26, 35, 15, 16, 12, 46, 25, 20, 42, 8, 43, 24, 19, 13, 51, 39, 48, 30, 31, 32, 4, 34, 14, 6, 37, 38, 28, 40, 41, 21, 23, 44, 45, 18, 47, 29, 49, 50, 27], 26]]\n",
    "\n",
    "Q1c_pt='QmVjYXVzZSBoZSBhdHRhaW5lZCBzbyBtdWNoIHBvd2VyLCBoZSBjb3VsZCBvbmx5IGJlIGNvbnRyb2xsZWQgYnkgaXQuIEFuZCBpbiB0aGU\n",
    "        gZW5kLCBtYXliZSBoaXMgb25seSBvcHRpb24gd2FzIHRvIGRlc3Ryb3kgaGltc2VsZi4gKEt1cm9zYWtpIEljaGlnbywgQmxlYWNoKQ=='\n",
    "\n",
    "\"\"\""
   ]
  }
 ],
 "metadata": {
  "kernelspec": {
   "display_name": "SageMath 9.6",
   "language": "sage",
   "name": "sagemath-9.6"
  },
  "language_info": {
   "codemirror_mode": {
    "name": "ipython",
    "version": 3
   },
   "file_extension": ".py",
   "mimetype": "text/x-python",
   "name": "python",
   "nbconvert_exporter": "python",
   "pygments_lexer": "ipython3",
   "version": "3.10.3"
  }
 },
 "nbformat": 4,
 "nbformat_minor": 5
}
