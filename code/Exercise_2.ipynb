{
 "cells": [
  {
   "cell_type": "code",
   "execution_count": 1,
   "id": "4fecaac7",
   "metadata": {},
   "outputs": [],
   "source": [
    "# Exercise 2 SCIPHER"
   ]
  },
  {
   "cell_type": "code",
   "execution_count": 2,
   "id": "ec0c95a2",
   "metadata": {},
   "outputs": [],
   "source": [
    "import itertools\n",
    "import hashlib\n",
    "\n",
    "from helper import *"
   ]
  },
  {
   "cell_type": "code",
   "execution_count": null,
   "id": "bd095229",
   "metadata": {},
   "outputs": [],
   "source": []
  },
  {
   "cell_type": "code",
   "execution_count": 3,
   "id": "17852fda",
   "metadata": {},
   "outputs": [],
   "source": [
    "params = load_params('params.txt')\n",
    "params_Q2 = load_params('Q2-hash.txt')\n",
    "\n",
    "Q2a_p   = int(params['Q2a_p'])\n",
    "Q2a_g   = int(params['Q2a_g'])\n",
    "Q2a_sk  = int(params['Q2a_sk'])\n",
    "Q2a_C   = params['Q2a_C']\n",
    "Q2b_p   = params['Q2b_p']\n",
    "Q2b_g   = params['Q2b_g']\n",
    "Q2b_pk  = params['Q2b_pk']\n",
    "Q2b_C1  = params['Q2b_C1']\n",
    "Q2b_KEY = params['Q2b_KEY']\n",
    "\n",
    "Q2b_C2hash = params_Q2['Q2b_C2hash']"
   ]
  },
  {
   "cell_type": "code",
   "execution_count": 4,
   "id": "df266fa5",
   "metadata": {},
   "outputs": [
    {
     "name": "stdout",
     "output_type": "stream",
     "text": [
      "Q2a_m=RECKLESSCACKLING\n"
     ]
    }
   ],
   "source": [
    "# Question 2.1 : Implements Dec(sk, C, pp) and find Q2a_C\n",
    "\n",
    "\n",
    "def parse_cipher(C):\n",
    "    c1_c2 = []\n",
    "    for pairs_hex in C.split(';')[:-1]:\n",
    "        c1_hex, c2_hex = pairs_hex.split(':')\n",
    "        c1_c2.append((int(c1_hex, 16), int(c2_hex, 16)))\n",
    "    return c1_c2\n",
    "\n",
    "\n",
    "def enc(pk, m, pp):\n",
    "    p, g = pp\n",
    "    G = IntegerModRing(p)\n",
    "    C = ''\n",
    "    for i in range(len(m)):\n",
    "        mi = m[i]\n",
    "        r = int(G.random_element())\n",
    "        c1 = Mod(power_mod(pk, r, p) * power_mod(g, ord(mi), p), p)\n",
    "        c2 = power_mod(g, r, p)\n",
    "        C += hex(c1)[2:] + ':' + hex(c2)[2:] + ';'\n",
    "    return C\n",
    "\n",
    "def dec(sk, C, pp):\n",
    "    p, g = pp\n",
    "    c1_c2 = parse_cipher(C)\n",
    "    \n",
    "    plaintext = ''\n",
    "    for c1, c2 in c1_c2:\n",
    "        gm = Mod(c1 * power_mod(c2, -sk, p), p)\n",
    "        for i in range(65, 91):  # for i in range(0, 200):\n",
    "            gi = power_mod(g, i, p)\n",
    "            if gi == gm:\n",
    "                plaintext += chr((i - ord('A')) % 26 + ord('A'))\n",
    "    \n",
    "    return plaintext\n",
    "    \n",
    "    \n",
    "print('Q2a_m={}'.format(dec(Q2a_sk, Q2a_C, (Q2a_p, Q2a_g))))"
   ]
  },
  {
   "cell_type": "code",
   "execution_count": null,
   "id": "251c8e64",
   "metadata": {},
   "outputs": [],
   "source": []
  },
  {
   "cell_type": "code",
   "execution_count": 5,
   "id": "8ca426c3",
   "metadata": {
    "scrolled": false
   },
   "outputs": [
    {
     "name": "stdout",
     "output_type": "stream",
     "text": [
      "Q2b_C2 hash is valid : True\n",
      "Q2b_C2=be835db50d89b6829e45cbfe7ac3f5434fdbcc11a4e88e6593821e181bad57c53bbe8173e78b8e08fcc19b97eb89eae835eb99aa7863468f75198ffcf581c3772787039280d8e4bb43a3477ef235133362259ea56032e41028692ba656a89bea803371c89522d81b67266d0d5c0ead7032ae08d7ae37e7fcac8933fbbffe1175:d3b1f17be26c4782915a5c2e83824647c43c5ee1abb6e1c121930f55de48db985ddc853cfde1578662588c752cc41cf1460894cbe788a820f232f549c6fc2347a235779604fa82fe0090ca22bd508a35aa2e69eb5a17bee38e53639154f7b55a47c52c8234a189b88278bc8fa194634a17a7fc91d070e84b406949ae6b4321db;d0673a9526747b3a9a2eb3497ebc1b4b73cc6e43f6c8647d54b61156d2091b478ea2f9dd558868be14bfe47d282ccd52f154d0259a2cb6b68eafaa1e5601f3199bb0b428723dff2a5838754af4051566a47fc2844e14d669b014981ec19c7071b05230fda6db4e988a30cc512cee89d000a08025ea2b47421eb0226310ee2f14:95e83da1ee7c3fdfcefed1cb65c12ea07aa66fa8f0ab7f6c837bfc429b62975e6ea5f2aca4a34cb5edf5b389ca773274868cce94bf524ebb89f3f6e276cd9ca99bd393aee8603e66a94af6cbf6ea10da5fc64055d1d329955a2505e817f4c9c71aa5e2e077c288828e3e3c0135b6625cbfd99651a561744b7734a38751e121e;5c529f87564cedae6c0753c139b0a261c344936da83dc384ff4fbf4b0502ba6557b85f7ce8297e343be740adddeaa4c0b27b9975050bae96f271d1b45aaaf2ef6d96380eb126195d82205afc68db02e7220bc0c164c576eb365b2f3a91bc80aaf08fb9afa1d0bcf38133c35bc6cfbb890462e38f1d978ebc6ad346921e9d2815:d37a2d106370283d8160da2f0c10bc7fa8a7e3a7f83f8a6dd51ca770ba14f3b388c661dc3720fd68e1750f81baae580588c88dc9b958618e75371eb229e6eb1ed2d1b0955d3ebc26b1bf4fda29cb3910f8ad6a59c749d2f5d4c607f51378160e916b2058fa9cca1b8b6bfdeb1b4db425dd68b056ae11521f5c3481c8e952f973;1d44a7ec4e73e974625992a52680cdc5346f0775336a43e7774ad8dfe26f81b560882ae07d1138a15f4fee8b7e9c95b7315dec6fb649d3870b917fb2ab6eb7f5c3c751db2d3eaf12773a73e49614f26be70c61a77647cbd21432aa7ecbf43b009135fd42e400163de462832e86d117124c1f95bfc1a4be5b7202f74d5ec6ecf0:6d17de82a7dd005bcb290b5783bfcafdfd87145e1d4300a22b39518c2f99dd3b7cfb439975d720de372e58ac9d04a9d2d82c7041a4639b58af7e1de25c76d0bdac04013214b7f0f2c0a6f354ba301bb200acfd01aa985b8450dc657d33ffdbdb369b8a1d9e5797d3da8603ee5e9fbb5fa5c53395f814866b1815df24b7dbc9fb;9547d768c405e1c0b13988c80e033d61eac5bffb62c73a6f50ee19406fc696889f88f83835766654ad4d20cf4c087a620af3b77e76e81caae4ee84ef5ad8f685871ab03a2389a80666790a23f71436096dfb8b26d5737e4e1c3d55a6d2af10881446384ec761260ca9905500ac4667a3731539f0bbf749130896f2f954a5bfa8:be4242d6e1162d88ca2ceb7ae482c9c663b8adb98f79b13c92002fa349b70da130cbcecb4b32c2fd3fd27a913188d442c75d6e63386ede9dfededbf0447dbba02fd93e3592a9a7be14663119cb1a5da129e6eb2cedad1d435626cf920f75b7b88ae2ce5fcef42f350003749040d1074ad7c3c000fba3852536dbf3fa2dc12804;828198685dc8804c5180a3b5b77dfa3e44ea24ed8de6c75c1dabd5268f6fe8b624a7047bae57f320f9a144ab989e820cecc1fa397ad95de6cd856d94df41a36adf1bfe4dd0560bf6354bdae7a0d9feb8eece38ec96af89b0b8eb3ecdd14af262264066f833d544e7a1592493450454ec8c0f953bd1d9264b6a5e5076c1752318:6feea7b1c7bd55aeccadfc0d7fcd50e3fa54d340cbbd4bd308550bc992a7d44007e6d3f42565975b866ebb55942a08f4881bcb51d6298bde7e16b30cf0539d40fe6f2f79abb2a188359614a3d189fbefca264cb4a7b2a7fe550d33da1b62870575d025c2b0a91148486eddf8c17817f0207609cf4e84b5d78381226bdc68263b;486fc6ed55392af378d396cf37e0894d4dc8d58e6a31711b336d90a9598ab2908a104fe38edddd31cc3e8f5a675a473addd877a5f690957e5b831f15072cc810740bbb044fbaabc680ae2afc604c3144808208d8336682b2cc134abdf47acc24c9a0f2c56d06e7c4e3d6426c373dc64bcfe68e68da876bbb4c9023a28fb0df89:3329539c30f07a670599112ebb2f8c673700c9d7b6da930423715258fa5bf0ca7a54967dcb5c2003c04802c2c217a1965f132e39a2bd9ad2852573b1c30b5830ac3ffc83e3982686defb4d96317ea2d30fe7e1d70b281cebac29f0884dfd1a356477805afe5870a450b199b37d57a1297f34c506bd2a605623d2ba836754b2da;21f648e68fae4339a23401ad404ad0d8f711e07bbb18961f274921ae0150bd4a4cb16ab1294b887d3148831e9b4ae0ed6fde6d0b99b21dd0862475a5c675f281ac6b18ef331602b2ca65acc853dd91557d91c73d1c2ca74ac119a5098b65e76c744f55b7f2391a6003d4945ef855f73f9a4250e1361b1a6bcbd65f1f8e80e318:367919bc644ef886cc36ab20dc68e624b00f221a05cdd88b44c64eba40bfa432450eb99ba87e8c418b2111d3f95e23d84864d479f9e210a490976c547555184b7b7c96c73ddbc9f556967ccf30f3f724d1413047218b859fe0f448e3bfdbe3ff48e0ef165066439b94600255762ca8987f97b411209b954cb35bb2369d98e59d;6a7d822558e110a9a7fcad3ad29655f508c3049d17f9367b002765c0b349576feb402d2cfe5181098ea2902cb8ab15435801c6ea55b5f3cdf19654b4caa678bc8c0dbd3a99bb86b94f397e7187d3bd11d0e7c905a6a176af61e8dd8ee79111ed8b37d102170dcf30adeaa09d2921ff106e9eaa8ef833dac289ed7ba92fc2f2bf:afa3c81699acf2580b6127dc0a282378d755fc6c72567023e1c3ecd2a479ff13edfac747f2fa7b2087369f59e0b20e8a0815bd41a0746ddb9daaa46e761d4754f9c1e0afe0f7fd7ce618a979ad5aba7738029dde19965534db715b5d91d4e245d86d4b9121920413f194ddf262320eeca9601a615d991f720ce6590580338e76;c94cab04eb87953310e0c3ee4e105cd2b8128c24c2b8984db529fe826eb158ab2f85c034f8f47fadc7d0ebd79dc7682377e18f21dcab62979b73942570b1054cb657051dfeb5ecb0d6409334da937acc9a3f6822a22a1bea5614827011dfe0097fb02fe4c1d68f056606dd020875e2f370f21ae7bb93d44ff9affe28a7ca14e0:4b58682c5eeeec87f06a23699ac8530f04671495510db900a53e1c67b6107b57fc1bae77fa3485bbe8d145ca127daac9aab18e8afc0e4eccdabacabe742da67b0270e13907c9784e7904c0379b9a8c3b853352e3c223d44061b97b08062444d1a380d56f63d0c9e6fe67fd3ef2911ef115035777895187c52d58b7c4ced7cc7a;\n"
     ]
    }
   ],
   "source": [
    "# Question 2.2\n",
    "\n",
    "\n",
    "def caesar_char(cipher_c, shift):\n",
    "    if cipher_c < 'A' or cipher_c > 'Z':\n",
    "        return cipher_c\n",
    "    else:\n",
    "        return chr((ord(cipher_c) - ord('A') + shift) % 26 + ord('A'))\n",
    "    \n",
    "def vigenere(text, key):\n",
    "    key_repeated = key * ceil(len(text) / len(key))\n",
    "    return ''.join([caesar_char(text[index], ord('A') - ord(key_repeated[index])) for index in range(len(text))])\n",
    "\n",
    "\n",
    "def SCIPHER(m, K):\n",
    "    key = [chr(ord('A') + ord(digit) - ord('0')) for digit in K]\n",
    "    return vigenere(m, key)\n",
    "\n",
    "\n",
    "def find_solt(pk, C1, pp, K):\n",
    "    p, g = pp\n",
    "    c1_c2 = parse_cipher(C1)\n",
    "    key_repeated = K * ceil(len(C1) / len(K))\n",
    "    new_C = ''\n",
    "    for i in range(len(c1_c2)):\n",
    "        c1, c2 = c1_c2[i]\n",
    "        shift = ord(key_repeated[i]) - ord('0')\n",
    "        new_c1 = Mod(c1 * power_mod(g, shift, p), p)  # TODO check if shift or -shift\n",
    "        new_C += hex(new_c1)[2:] + ':' + hex(c2)[2:] + ';'\n",
    "    \n",
    "    return new_C\n",
    "\n",
    "new_C = find_solt(Q2b_pk, Q2b_C1, (int(Q2b_p), int(Q2b_g)), Q2b_KEY)\n",
    "valid = hashlib.sha256(new_C.encode()).hexdigest() == Q2b_C2hash\n",
    "\n",
    "print('Q2b_C2 hash is valid : {}'.format(valid))\n",
    "print('Q2b_C2={}'.format(new_C))"
   ]
  },
  {
   "cell_type": "code",
   "execution_count": null,
   "id": "6a9f2ee9",
   "metadata": {},
   "outputs": [],
   "source": []
  }
 ],
 "metadata": {
  "kernelspec": {
   "display_name": "SageMath 9.5",
   "language": "sage",
   "name": "sagemath"
  },
  "language_info": {
   "codemirror_mode": {
    "name": "ipython",
    "version": 3
   },
   "file_extension": ".py",
   "mimetype": "text/x-python",
   "name": "python",
   "nbconvert_exporter": "python",
   "pygments_lexer": "ipython3",
   "version": "3.10.6"
  }
 },
 "nbformat": 4,
 "nbformat_minor": 5
}
